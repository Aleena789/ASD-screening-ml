{
 "cells": [
  {
   "cell_type": "markdown",
   "id": "f7ec708a-c267-4543-9ab2-466bb69e16bc",
   "metadata": {},
   "source": [
    "Data Overview\n",
    "- Dataset contains 14 features +1 target ('Class')\n",
    "- Features: A1-A10(binary, age,sex,jaundice,family_asd(categorical)\n",
    "- Target: Class(Yes= Autism, no= no autism)"
   ]
  },
  {
   "cell_type": "code",
   "execution_count": 128,
   "id": "20cb75f8-07bd-46c7-892f-f3fde7dac4ef",
   "metadata": {},
   "outputs": [],
   "source": [
    "import pandas as pd\n",
    "df=pd.read_csv(\"C:/Users/Aleena Anna/Downloads/Autism_Screening_Data_Combined.csv\")"
   ]
  },
  {
   "cell_type": "code",
   "execution_count": 129,
   "id": "54c6e710-321e-4e5b-add5-9aa4cac4d17b",
   "metadata": {},
   "outputs": [
    {
     "data": {
      "text/html": [
       "<div>\n",
       "<style scoped>\n",
       "    .dataframe tbody tr th:only-of-type {\n",
       "        vertical-align: middle;\n",
       "    }\n",
       "\n",
       "    .dataframe tbody tr th {\n",
       "        vertical-align: top;\n",
       "    }\n",
       "\n",
       "    .dataframe thead th {\n",
       "        text-align: right;\n",
       "    }\n",
       "</style>\n",
       "<table border=\"1\" class=\"dataframe\">\n",
       "  <thead>\n",
       "    <tr style=\"text-align: right;\">\n",
       "      <th></th>\n",
       "      <th>A1</th>\n",
       "      <th>A2</th>\n",
       "      <th>A3</th>\n",
       "      <th>A4</th>\n",
       "      <th>A5</th>\n",
       "      <th>A6</th>\n",
       "      <th>A7</th>\n",
       "      <th>A8</th>\n",
       "      <th>A9</th>\n",
       "      <th>A10</th>\n",
       "      <th>Age</th>\n",
       "      <th>Sex</th>\n",
       "      <th>Jauundice</th>\n",
       "      <th>Family_ASD</th>\n",
       "      <th>Class</th>\n",
       "    </tr>\n",
       "  </thead>\n",
       "  <tbody>\n",
       "    <tr>\n",
       "      <th>0</th>\n",
       "      <td>1</td>\n",
       "      <td>1</td>\n",
       "      <td>0</td>\n",
       "      <td>1</td>\n",
       "      <td>0</td>\n",
       "      <td>0</td>\n",
       "      <td>1</td>\n",
       "      <td>1</td>\n",
       "      <td>0</td>\n",
       "      <td>0</td>\n",
       "      <td>15</td>\n",
       "      <td>m</td>\n",
       "      <td>no</td>\n",
       "      <td>no</td>\n",
       "      <td>NO</td>\n",
       "    </tr>\n",
       "    <tr>\n",
       "      <th>1</th>\n",
       "      <td>0</td>\n",
       "      <td>1</td>\n",
       "      <td>1</td>\n",
       "      <td>1</td>\n",
       "      <td>0</td>\n",
       "      <td>1</td>\n",
       "      <td>1</td>\n",
       "      <td>0</td>\n",
       "      <td>1</td>\n",
       "      <td>0</td>\n",
       "      <td>15</td>\n",
       "      <td>m</td>\n",
       "      <td>no</td>\n",
       "      <td>no</td>\n",
       "      <td>NO</td>\n",
       "    </tr>\n",
       "    <tr>\n",
       "      <th>2</th>\n",
       "      <td>1</td>\n",
       "      <td>1</td>\n",
       "      <td>1</td>\n",
       "      <td>0</td>\n",
       "      <td>1</td>\n",
       "      <td>1</td>\n",
       "      <td>1</td>\n",
       "      <td>1</td>\n",
       "      <td>1</td>\n",
       "      <td>1</td>\n",
       "      <td>15</td>\n",
       "      <td>f</td>\n",
       "      <td>no</td>\n",
       "      <td>yes</td>\n",
       "      <td>YES</td>\n",
       "    </tr>\n",
       "    <tr>\n",
       "      <th>3</th>\n",
       "      <td>1</td>\n",
       "      <td>1</td>\n",
       "      <td>1</td>\n",
       "      <td>1</td>\n",
       "      <td>1</td>\n",
       "      <td>1</td>\n",
       "      <td>1</td>\n",
       "      <td>1</td>\n",
       "      <td>0</td>\n",
       "      <td>0</td>\n",
       "      <td>16</td>\n",
       "      <td>f</td>\n",
       "      <td>no</td>\n",
       "      <td>no</td>\n",
       "      <td>YES</td>\n",
       "    </tr>\n",
       "    <tr>\n",
       "      <th>4</th>\n",
       "      <td>1</td>\n",
       "      <td>1</td>\n",
       "      <td>1</td>\n",
       "      <td>1</td>\n",
       "      <td>1</td>\n",
       "      <td>1</td>\n",
       "      <td>1</td>\n",
       "      <td>1</td>\n",
       "      <td>1</td>\n",
       "      <td>1</td>\n",
       "      <td>15</td>\n",
       "      <td>f</td>\n",
       "      <td>no</td>\n",
       "      <td>no</td>\n",
       "      <td>YES</td>\n",
       "    </tr>\n",
       "  </tbody>\n",
       "</table>\n",
       "</div>"
      ],
      "text/plain": [
       "   A1  A2  A3  A4  A5  A6  A7  A8  A9  A10  Age Sex Jauundice Family_ASD Class\n",
       "0   1   1   0   1   0   0   1   1   0    0   15   m        no         no    NO\n",
       "1   0   1   1   1   0   1   1   0   1    0   15   m        no         no    NO\n",
       "2   1   1   1   0   1   1   1   1   1    1   15   f        no        yes   YES\n",
       "3   1   1   1   1   1   1   1   1   0    0   16   f        no         no   YES\n",
       "4   1   1   1   1   1   1   1   1   1    1   15   f        no         no   YES"
      ]
     },
     "execution_count": 129,
     "metadata": {},
     "output_type": "execute_result"
    }
   ],
   "source": [
    "df.head()"
   ]
  },
  {
   "cell_type": "code",
   "execution_count": 130,
   "id": "28aad77b-f33e-4342-9765-3f81eff153a3",
   "metadata": {},
   "outputs": [
    {
     "name": "stdout",
     "output_type": "stream",
     "text": [
      "<class 'pandas.core.frame.DataFrame'>\n",
      "RangeIndex: 6075 entries, 0 to 6074\n",
      "Data columns (total 15 columns):\n",
      " #   Column      Non-Null Count  Dtype \n",
      "---  ------      --------------  ----- \n",
      " 0   A1          6075 non-null   int64 \n",
      " 1   A2          6075 non-null   int64 \n",
      " 2   A3          6075 non-null   int64 \n",
      " 3   A4          6075 non-null   int64 \n",
      " 4   A5          6075 non-null   int64 \n",
      " 5   A6          6075 non-null   int64 \n",
      " 6   A7          6075 non-null   int64 \n",
      " 7   A8          6075 non-null   int64 \n",
      " 8   A9          6075 non-null   int64 \n",
      " 9   A10         6075 non-null   int64 \n",
      " 10  Age         6075 non-null   int64 \n",
      " 11  Sex         6075 non-null   object\n",
      " 12  Jauundice   6075 non-null   object\n",
      " 13  Family_ASD  6075 non-null   object\n",
      " 14  Class       6075 non-null   object\n",
      "dtypes: int64(11), object(4)\n",
      "memory usage: 712.0+ KB\n"
     ]
    }
   ],
   "source": [
    "df.info()"
   ]
  },
  {
   "cell_type": "markdown",
   "id": "a9fb4528-1222-4113-889a-0fd6f092fb3f",
   "metadata": {},
   "source": [
    "EDA\n",
    "- no missing values\n",
    "- class imbalance\n",
    "- all features are important and dependent on each other(proved through chi test)"
   ]
  },
  {
   "cell_type": "code",
   "execution_count": 131,
   "id": "3ca5912d-3041-4ce5-bd28-a99b40c508e6",
   "metadata": {},
   "outputs": [],
   "source": [
    "import matplotlib.pyplot as plt\n",
    "import seaborn as sns"
   ]
  },
  {
   "cell_type": "code",
   "execution_count": 132,
   "id": "267a25aa-241e-409f-b416-bc18c78f9044",
   "metadata": {
    "scrolled": true
   },
   "outputs": [
    {
     "data": {
      "image/png": "[encoded data removed]",
      "text/plain": [
       "<Figure size 640x480 with 1 Axes>"
      ]
     },
     "metadata": {},
     "output_type": "display_data"
    }
   ],
   "source": [
    "df[\"Age\"].hist(bins=40, edgecolor=\"black\")\n",
    "plt.show()"
   ]
  },
  {
   "cell_type": "code",
   "execution_count": 134,
   "id": "4a9aede9-cc5f-4061-bd7e-862e87adb70c",
   "metadata": {
    "scrolled": true
   },
   "outputs": [
    {
     "data": {
      "text/plain": [
       "AgeGroup\n",
       "Young Adult(20-30)     1521\n",
       "Toddler(2-5)           1375\n",
       "Adult(31-50)           1234\n",
       "Teen(13-19)             819\n",
       "Child(6-12)             768\n",
       "Older Adults(51-80)     198\n",
       "Infants (0-1)           160\n",
       "Name: count, dtype: int64"
      ]
     },
     "execution_count": 134,
     "metadata": {},
     "output_type": "execute_result"
    }
   ],
   "source": [
    "bins=[0,1,5,12,19,30,50,80]\n",
    "labels=[\"Infants (0-1)\", 'Toddler(2-5)','Child(6-12)','Teen(13-19)', 'Young Adult(20-30)','Adult(31-50)','Older Adults(51-80)']\n",
    "df[\"AgeGroup\"]=pd.cut(df[\"Age\"],bins=bins, labels=labels,right=True)\n",
    "df[\"AgeGroup\"].value_counts()"
   ]
  },
  {
   "cell_type": "code",
   "execution_count": 135,
   "id": "0ee6d820-8324-415e-9f35-a219e880f876",
   "metadata": {},
   "outputs": [],
   "source": [
    "#so autism screening for under 12 months olds are unreliable so dropping those rows atm \n",
    "#later will come back and bin them in 10-19 year\n"
   ]
  },
  {
   "cell_type": "code",
   "execution_count": 136,
   "id": "2a069973-551e-48e6-b969-4729285e6cf2",
   "metadata": {},
   "outputs": [],
   "source": [
    "df=df[df[\"Age\"]>1] #dropped 1 yo to reduce noise as it is not reliable"
   ]
  },
  {
   "cell_type": "code",
   "execution_count": 137,
   "id": "eadec7dc-9524-4496-bd22-7e10b3affe26",
   "metadata": {},
   "outputs": [
    {
     "data": {
      "text/html": [
       "<div>\n",
       "<style scoped>\n",
       "    .dataframe tbody tr th:only-of-type {\n",
       "        vertical-align: middle;\n",
       "    }\n",
       "\n",
       "    .dataframe tbody tr th {\n",
       "        vertical-align: top;\n",
       "    }\n",
       "\n",
       "    .dataframe thead th {\n",
       "        text-align: right;\n",
       "    }\n",
       "</style>\n",
       "<table border=\"1\" class=\"dataframe\">\n",
       "  <thead>\n",
       "    <tr style=\"text-align: right;\">\n",
       "      <th></th>\n",
       "      <th>Sex</th>\n",
       "      <th>Jauundice</th>\n",
       "      <th>Family_ASD</th>\n",
       "      <th>Class</th>\n",
       "    </tr>\n",
       "  </thead>\n",
       "  <tbody>\n",
       "    <tr>\n",
       "      <th>count</th>\n",
       "      <td>5915</td>\n",
       "      <td>5915</td>\n",
       "      <td>5915</td>\n",
       "      <td>5915</td>\n",
       "    </tr>\n",
       "    <tr>\n",
       "      <th>unique</th>\n",
       "      <td>2</td>\n",
       "      <td>2</td>\n",
       "      <td>2</td>\n",
       "      <td>2</td>\n",
       "    </tr>\n",
       "    <tr>\n",
       "      <th>top</th>\n",
       "      <td>m</td>\n",
       "      <td>no</td>\n",
       "      <td>no</td>\n",
       "      <td>NO</td>\n",
       "    </tr>\n",
       "    <tr>\n",
       "      <th>freq</th>\n",
       "      <td>3421</td>\n",
       "      <td>4921</td>\n",
       "      <td>4813</td>\n",
       "      <td>4111</td>\n",
       "    </tr>\n",
       "  </tbody>\n",
       "</table>\n",
       "</div>"
      ],
      "text/plain": [
       "         Sex Jauundice Family_ASD Class\n",
       "count   5915      5915       5915  5915\n",
       "unique     2         2          2     2\n",
       "top        m        no         no    NO\n",
       "freq    3421      4921       4813  4111"
      ]
     },
     "execution_count": 137,
     "metadata": {},
     "output_type": "execute_result"
    }
   ],
   "source": [
    "df.describe(include=[\"object\"])"
   ]
  },
  {
   "cell_type": "code",
   "execution_count": 138,
   "id": "54a38f7d-adb4-4ce9-b49b-46c2a85a0837",
   "metadata": {},
   "outputs": [
    {
     "data": {
      "text/plain": [
       "Class\n",
       "NO     0.695013\n",
       "YES    0.304987\n",
       "Name: proportion, dtype: float64"
      ]
     },
     "execution_count": 138,
     "metadata": {},
     "output_type": "execute_result"
    }
   ],
   "source": [
    "df[\"Class\"].value_counts(normalize=True)"
   ]
  },
  {
   "cell_type": "code",
   "execution_count": 139,
   "id": "c7b87a90-ff72-4d18-9cb2-3a7225253390",
   "metadata": {},
   "outputs": [
    {
     "data": {
      "text/plain": [
       "<function matplotlib.pyplot.show(close=None, block=None)>"
      ]
     },
     "execution_count": 139,
     "metadata": {},
     "output_type": "execute_result"
    },
    {
     "data": {
      "image/png": "[encoded data removed]",
      "text/plain": [
       "<Figure size 600x400 with 1 Axes>"
      ]
     },
     "metadata": {},
     "output_type": "display_data"
    }
   ],
   "source": [
    "plt.figure(figsize=(6,4))\n",
    "sns.countplot(data=df, x=\"Class\")\n",
    "plt.title(\"distribution of target\")\n",
    "plt.show"
   ]
  },
  {
   "cell_type": "code",
   "execution_count": 140,
   "id": "51c79c45-f0a5-4cfe-9f61-98ecb6279928",
   "metadata": {},
   "outputs": [
    {
     "data": {
      "text/plain": [
       "<function matplotlib.pyplot.show(close=None, block=None)>"
      ]
     },
     "execution_count": 140,
     "metadata": {},
     "output_type": "execute_result"
    },
    {
     "data": {
      "image/png": "[encoded data removed]",
      "text/plain": [
       "<Figure size 600x400 with 1 Axes>"
      ]
     },
     "metadata": {},
     "output_type": "display_data"
    }
   ],
   "source": [
    "plt.figure(figsize=(6,4))\n",
    "sns.countplot(data=df, x=\"Jauundice\", hue=\"Class\")\n",
    "plt.title(\"asd vs jaundice\")\n",
    "plt.show"
   ]
  },
  {
   "cell_type": "code",
   "execution_count": 141,
   "id": "ddb0dd8f-658d-48a2-9614-a36cec0738d9",
   "metadata": {},
   "outputs": [
    {
     "data": {
      "text/plain": [
       "<function matplotlib.pyplot.show(close=None, block=None)>"
      ]
     },
     "execution_count": 141,
     "metadata": {},
     "output_type": "execute_result"
    },
    {
     "data": {
      "image/png": "[encoded data removed]",
      "text/plain": [
       "<Figure size 600x400 with 1 Axes>"
      ]
     },
     "metadata": {},
     "output_type": "display_data"
    }
   ],
   "source": [
    "plt.figure(figsize=(6,4))\n",
    "sns.countplot(data=df, x=\"Family_ASD\", hue=\"Class\")\n",
    "plt.title(\"asd vs fam history\")\n",
    "plt.show"
   ]
  },
  {
   "cell_type": "code",
   "execution_count": 142,
   "id": "1f255ad1-96d0-4b93-bcff-213d8a9a5109",
   "metadata": {},
   "outputs": [
    {
     "data": {
      "text/plain": [
       "<function matplotlib.pyplot.show(close=None, block=None)>"
      ]
     },
     "execution_count": 142,
     "metadata": {},
     "output_type": "execute_result"
    },
    {
     "data": {
      "image/png": "[encoded data removed]",
      "text/plain": [
       "<Figure size 600x400 with 1 Axes>"
      ]
     },
     "metadata": {},
     "output_type": "display_data"
    }
   ],
   "source": [
    "plt.figure(figsize=(6,4))\n",
    "sns.countplot(data=df, x=\"Sex\", hue=\"Class\")\n",
    "plt.title(\"asd vs gender\")\n",
    "plt.show"
   ]
  },
  {
   "cell_type": "code",
   "execution_count": 143,
   "id": "30730eea-4f21-4460-8c3c-0bba76fc913c",
   "metadata": {},
   "outputs": [],
   "source": [
    "screen_col=[col for col in df.columns if col.startswith(\"A\") and col[1:].isdigit()]"
   ]
  },
  {
   "cell_type": "code",
   "execution_count": 144,
   "id": "6db9bed9-eeab-44cc-ab9c-2722d9eb8ee1",
   "metadata": {},
   "outputs": [
    {
     "data": {
      "image/png": "[encoded data removed]",
      "text/plain": [
       "<Figure size 600x400 with 1 Axes>"
      ]
     },
     "metadata": {},
     "output_type": "display_data"
    },
    {
     "data": {
      "image/png": "[encoded data removed]",
      "text/plain": [
       "<Figure size 600x400 with 1 Axes>"
      ]
     },
     "metadata": {},
     "output_type": "display_data"
    },
    {
     "data": {
      "image/png": "[encoded data removed]",
      "text/plain": [
       "<Figure size 600x400 with 1 Axes>"
      ]
     },
     "metadata": {},
     "output_type": "display_data"
    },
    {
     "data": {
      "image/png": "[encoded data removed]",
      "text/plain": [
       "<Figure size 600x400 with 1 Axes>"
      ]
     },
     "metadata": {},
     "output_type": "display_data"
    },
    {
     "data": {
      "image/png": "[encoded data removed]",
      "text/plain": [
       "<Figure size 600x400 with 1 Axes>"
      ]
     },
     "metadata": {},
     "output_type": "display_data"
    },
    {
     "data": {
      "image/png": "[encoded data removed]",
      "text/plain": [
       "<Figure size 600x400 with 1 Axes>"
      ]
     },
     "metadata": {},
     "output_type": "display_data"
    },
    {
     "data": {
      "image/png": "[encoded data removed]",
      "text/plain": [
       "<Figure size 600x400 with 1 Axes>"
      ]
     },
     "metadata": {},
     "output_type": "display_data"
    },
    {
     "data": {
      "image/png": "[encoded data removed]",
      "text/plain": [
       "<Figure size 600x400 with 1 Axes>"
      ]
     },
     "metadata": {},
     "output_type": "display_data"
    },
    {
     "data": {
      "image/png": "[encoded data removed]",
      "text/plain": [
       "<Figure size 600x400 with 1 Axes>"
      ]
     },
     "metadata": {},
     "output_type": "display_data"
    },
    {
     "data": {
      "image/png": "[encoded data removed]",
      "text/plain": [
       "<Figure size 600x400 with 1 Axes>"
      ]
     },
     "metadata": {},
     "output_type": "display_data"
    }
   ],
   "source": [
    "for col in screen_col:\n",
    "    plt.figure(figsize=(6,4))\n",
    "    sns.countplot(data=df, x=col,hue=\"Class\", hue_order=[\"NO\",\"YES\"], palette={'NO':\"blue\",\"YES\":\"orange\"})\n",
    "    plt.title(f\"Austism vs {col}\") \n",
    "    plt.show"
   ]
  },
  {
   "cell_type": "code",
   "execution_count": 145,
   "id": "b6211af8-5d8f-4ea3-be8b-dfef2c4afbdb",
   "metadata": {},
   "outputs": [
    {
     "data": {
      "text/html": [
       "<div>\n",
       "<style scoped>\n",
       "    .dataframe tbody tr th:only-of-type {\n",
       "        vertical-align: middle;\n",
       "    }\n",
       "\n",
       "    .dataframe tbody tr th {\n",
       "        vertical-align: top;\n",
       "    }\n",
       "\n",
       "    .dataframe thead th {\n",
       "        text-align: right;\n",
       "    }\n",
       "</style>\n",
       "<table border=\"1\" class=\"dataframe\">\n",
       "  <thead>\n",
       "    <tr style=\"text-align: right;\">\n",
       "      <th>Class</th>\n",
       "      <th>NO</th>\n",
       "      <th>YES</th>\n",
       "    </tr>\n",
       "    <tr>\n",
       "      <th>Jauundice</th>\n",
       "      <th></th>\n",
       "      <th></th>\n",
       "    </tr>\n",
       "  </thead>\n",
       "  <tbody>\n",
       "    <tr>\n",
       "      <th>no</th>\n",
       "      <td>0.701077</td>\n",
       "      <td>0.298923</td>\n",
       "    </tr>\n",
       "    <tr>\n",
       "      <th>yes</th>\n",
       "      <td>0.664990</td>\n",
       "      <td>0.335010</td>\n",
       "    </tr>\n",
       "  </tbody>\n",
       "</table>\n",
       "</div>"
      ],
      "text/plain": [
       "Class            NO       YES\n",
       "Jauundice                    \n",
       "no         0.701077  0.298923\n",
       "yes        0.664990  0.335010"
      ]
     },
     "execution_count": 145,
     "metadata": {},
     "output_type": "execute_result"
    }
   ],
   "source": [
    "pd.crosstab(df[\"Jauundice\"],df[\"Class\"], normalize=\"index\")"
   ]
  },
  {
   "cell_type": "code",
   "execution_count": 146,
   "id": "950c3ad8-6303-4715-94af-01d16d403000",
   "metadata": {},
   "outputs": [
    {
     "data": {
      "text/html": [
       "<div>\n",
       "<style scoped>\n",
       "    .dataframe tbody tr th:only-of-type {\n",
       "        vertical-align: middle;\n",
       "    }\n",
       "\n",
       "    .dataframe tbody tr th {\n",
       "        vertical-align: top;\n",
       "    }\n",
       "\n",
       "    .dataframe thead th {\n",
       "        text-align: right;\n",
       "    }\n",
       "</style>\n",
       "<table border=\"1\" class=\"dataframe\">\n",
       "  <thead>\n",
       "    <tr style=\"text-align: right;\">\n",
       "      <th>Class</th>\n",
       "      <th>NO</th>\n",
       "      <th>YES</th>\n",
       "    </tr>\n",
       "    <tr>\n",
       "      <th>Family_ASD</th>\n",
       "      <th></th>\n",
       "      <th></th>\n",
       "    </tr>\n",
       "  </thead>\n",
       "  <tbody>\n",
       "    <tr>\n",
       "      <th>no</th>\n",
       "      <td>0.718471</td>\n",
       "      <td>0.281529</td>\n",
       "    </tr>\n",
       "    <tr>\n",
       "      <th>yes</th>\n",
       "      <td>0.592559</td>\n",
       "      <td>0.407441</td>\n",
       "    </tr>\n",
       "  </tbody>\n",
       "</table>\n",
       "</div>"
      ],
      "text/plain": [
       "Class             NO       YES\n",
       "Family_ASD                    \n",
       "no          0.718471  0.281529\n",
       "yes         0.592559  0.407441"
      ]
     },
     "execution_count": 146,
     "metadata": {},
     "output_type": "execute_result"
    }
   ],
   "source": [
    "pd.crosstab(df[\"Family_ASD\"],df[\"Class\"], normalize=\"index\")"
   ]
  },
  {
   "cell_type": "code",
   "execution_count": 147,
   "id": "d7376765-6ce5-4e38-af5a-bed23e02f680",
   "metadata": {},
   "outputs": [
    {
     "data": {
      "text/html": [
       "<div>\n",
       "<style scoped>\n",
       "    .dataframe tbody tr th:only-of-type {\n",
       "        vertical-align: middle;\n",
       "    }\n",
       "\n",
       "    .dataframe tbody tr th {\n",
       "        vertical-align: top;\n",
       "    }\n",
       "\n",
       "    .dataframe thead th {\n",
       "        text-align: right;\n",
       "    }\n",
       "</style>\n",
       "<table border=\"1\" class=\"dataframe\">\n",
       "  <thead>\n",
       "    <tr style=\"text-align: right;\">\n",
       "      <th>Class</th>\n",
       "      <th>NO</th>\n",
       "      <th>YES</th>\n",
       "    </tr>\n",
       "    <tr>\n",
       "      <th>Age</th>\n",
       "      <th></th>\n",
       "      <th></th>\n",
       "    </tr>\n",
       "  </thead>\n",
       "  <tbody>\n",
       "    <tr>\n",
       "      <th>2</th>\n",
       "      <td>1.000000</td>\n",
       "      <td>0.000000</td>\n",
       "    </tr>\n",
       "    <tr>\n",
       "      <th>3</th>\n",
       "      <td>1.000000</td>\n",
       "      <td>0.000000</td>\n",
       "    </tr>\n",
       "    <tr>\n",
       "      <th>4</th>\n",
       "      <td>0.535604</td>\n",
       "      <td>0.464396</td>\n",
       "    </tr>\n",
       "    <tr>\n",
       "      <th>5</th>\n",
       "      <td>0.525316</td>\n",
       "      <td>0.474684</td>\n",
       "    </tr>\n",
       "    <tr>\n",
       "      <th>6</th>\n",
       "      <td>0.492424</td>\n",
       "      <td>0.507576</td>\n",
       "    </tr>\n",
       "    <tr>\n",
       "      <th>...</th>\n",
       "      <td>...</td>\n",
       "      <td>...</td>\n",
       "    </tr>\n",
       "    <tr>\n",
       "      <th>73</th>\n",
       "      <td>1.000000</td>\n",
       "      <td>0.000000</td>\n",
       "    </tr>\n",
       "    <tr>\n",
       "      <th>74</th>\n",
       "      <td>0.000000</td>\n",
       "      <td>1.000000</td>\n",
       "    </tr>\n",
       "    <tr>\n",
       "      <th>76</th>\n",
       "      <td>0.666667</td>\n",
       "      <td>0.333333</td>\n",
       "    </tr>\n",
       "    <tr>\n",
       "      <th>78</th>\n",
       "      <td>1.000000</td>\n",
       "      <td>0.000000</td>\n",
       "    </tr>\n",
       "    <tr>\n",
       "      <th>80</th>\n",
       "      <td>0.000000</td>\n",
       "      <td>1.000000</td>\n",
       "    </tr>\n",
       "  </tbody>\n",
       "</table>\n",
       "<p>75 rows × 2 columns</p>\n",
       "</div>"
      ],
      "text/plain": [
       "Class        NO       YES\n",
       "Age                      \n",
       "2      1.000000  0.000000\n",
       "3      1.000000  0.000000\n",
       "4      0.535604  0.464396\n",
       "5      0.525316  0.474684\n",
       "6      0.492424  0.507576\n",
       "..          ...       ...\n",
       "73     1.000000  0.000000\n",
       "74     0.000000  1.000000\n",
       "76     0.666667  0.333333\n",
       "78     1.000000  0.000000\n",
       "80     0.000000  1.000000\n",
       "\n",
       "[75 rows x 2 columns]"
      ]
     },
     "execution_count": 147,
     "metadata": {},
     "output_type": "execute_result"
    }
   ],
   "source": [
    "pd.crosstab(df[\"Age\"],df[\"Class\"], normalize=\"index\")"
   ]
  },
  {
   "cell_type": "code",
   "execution_count": 148,
   "id": "3b14ef23-5b82-426a-852b-a9413a8d81fd",
   "metadata": {},
   "outputs": [
    {
     "data": {
      "text/html": [
       "<div>\n",
       "<style scoped>\n",
       "    .dataframe tbody tr th:only-of-type {\n",
       "        vertical-align: middle;\n",
       "    }\n",
       "\n",
       "    .dataframe tbody tr th {\n",
       "        vertical-align: top;\n",
       "    }\n",
       "\n",
       "    .dataframe thead th {\n",
       "        text-align: right;\n",
       "    }\n",
       "</style>\n",
       "<table border=\"1\" class=\"dataframe\">\n",
       "  <thead>\n",
       "    <tr style=\"text-align: right;\">\n",
       "      <th>Class</th>\n",
       "      <th>NO</th>\n",
       "      <th>YES</th>\n",
       "    </tr>\n",
       "    <tr>\n",
       "      <th>Sex</th>\n",
       "      <th></th>\n",
       "      <th></th>\n",
       "    </tr>\n",
       "  </thead>\n",
       "  <tbody>\n",
       "    <tr>\n",
       "      <th>f</th>\n",
       "      <td>0.673617</td>\n",
       "      <td>0.326383</td>\n",
       "    </tr>\n",
       "    <tr>\n",
       "      <th>m</th>\n",
       "      <td>0.710611</td>\n",
       "      <td>0.289389</td>\n",
       "    </tr>\n",
       "  </tbody>\n",
       "</table>\n",
       "</div>"
      ],
      "text/plain": [
       "Class        NO       YES\n",
       "Sex                      \n",
       "f      0.673617  0.326383\n",
       "m      0.710611  0.289389"
      ]
     },
     "execution_count": 148,
     "metadata": {},
     "output_type": "execute_result"
    }
   ],
   "source": [
    "pd.crosstab(df[\"Sex\"],df[\"Class\"], normalize=\"index\")"
   ]
  },
  {
   "cell_type": "code",
   "execution_count": 149,
   "id": "91188d60-02ea-47ed-9dca-5439240df52d",
   "metadata": {},
   "outputs": [
    {
     "data": {
      "text/html": [
       "<div>\n",
       "<style scoped>\n",
       "    .dataframe tbody tr th:only-of-type {\n",
       "        vertical-align: middle;\n",
       "    }\n",
       "\n",
       "    .dataframe tbody tr th {\n",
       "        vertical-align: top;\n",
       "    }\n",
       "\n",
       "    .dataframe thead th {\n",
       "        text-align: right;\n",
       "    }\n",
       "</style>\n",
       "<table border=\"1\" class=\"dataframe\">\n",
       "  <thead>\n",
       "    <tr style=\"text-align: right;\">\n",
       "      <th></th>\n",
       "      <th>A1</th>\n",
       "      <th>A2</th>\n",
       "      <th>A3</th>\n",
       "      <th>A4</th>\n",
       "      <th>A5</th>\n",
       "      <th>A6</th>\n",
       "      <th>A7</th>\n",
       "      <th>A8</th>\n",
       "      <th>A9</th>\n",
       "      <th>A10</th>\n",
       "      <th>Age</th>\n",
       "      <th>Sex</th>\n",
       "      <th>Jauundice</th>\n",
       "      <th>Family_ASD</th>\n",
       "      <th>Class</th>\n",
       "      <th>AgeGroup</th>\n",
       "    </tr>\n",
       "  </thead>\n",
       "  <tbody>\n",
       "    <tr>\n",
       "      <th>0</th>\n",
       "      <td>1</td>\n",
       "      <td>1</td>\n",
       "      <td>0</td>\n",
       "      <td>1</td>\n",
       "      <td>0</td>\n",
       "      <td>0</td>\n",
       "      <td>1</td>\n",
       "      <td>1</td>\n",
       "      <td>0</td>\n",
       "      <td>0</td>\n",
       "      <td>15</td>\n",
       "      <td>m</td>\n",
       "      <td>no</td>\n",
       "      <td>no</td>\n",
       "      <td>NO</td>\n",
       "      <td>Teen(13-19)</td>\n",
       "    </tr>\n",
       "    <tr>\n",
       "      <th>1</th>\n",
       "      <td>0</td>\n",
       "      <td>1</td>\n",
       "      <td>1</td>\n",
       "      <td>1</td>\n",
       "      <td>0</td>\n",
       "      <td>1</td>\n",
       "      <td>1</td>\n",
       "      <td>0</td>\n",
       "      <td>1</td>\n",
       "      <td>0</td>\n",
       "      <td>15</td>\n",
       "      <td>m</td>\n",
       "      <td>no</td>\n",
       "      <td>no</td>\n",
       "      <td>NO</td>\n",
       "      <td>Teen(13-19)</td>\n",
       "    </tr>\n",
       "    <tr>\n",
       "      <th>2</th>\n",
       "      <td>1</td>\n",
       "      <td>1</td>\n",
       "      <td>1</td>\n",
       "      <td>0</td>\n",
       "      <td>1</td>\n",
       "      <td>1</td>\n",
       "      <td>1</td>\n",
       "      <td>1</td>\n",
       "      <td>1</td>\n",
       "      <td>1</td>\n",
       "      <td>15</td>\n",
       "      <td>f</td>\n",
       "      <td>no</td>\n",
       "      <td>yes</td>\n",
       "      <td>YES</td>\n",
       "      <td>Teen(13-19)</td>\n",
       "    </tr>\n",
       "    <tr>\n",
       "      <th>3</th>\n",
       "      <td>1</td>\n",
       "      <td>1</td>\n",
       "      <td>1</td>\n",
       "      <td>1</td>\n",
       "      <td>1</td>\n",
       "      <td>1</td>\n",
       "      <td>1</td>\n",
       "      <td>1</td>\n",
       "      <td>0</td>\n",
       "      <td>0</td>\n",
       "      <td>16</td>\n",
       "      <td>f</td>\n",
       "      <td>no</td>\n",
       "      <td>no</td>\n",
       "      <td>YES</td>\n",
       "      <td>Teen(13-19)</td>\n",
       "    </tr>\n",
       "    <tr>\n",
       "      <th>4</th>\n",
       "      <td>1</td>\n",
       "      <td>1</td>\n",
       "      <td>1</td>\n",
       "      <td>1</td>\n",
       "      <td>1</td>\n",
       "      <td>1</td>\n",
       "      <td>1</td>\n",
       "      <td>1</td>\n",
       "      <td>1</td>\n",
       "      <td>1</td>\n",
       "      <td>15</td>\n",
       "      <td>f</td>\n",
       "      <td>no</td>\n",
       "      <td>no</td>\n",
       "      <td>YES</td>\n",
       "      <td>Teen(13-19)</td>\n",
       "    </tr>\n",
       "    <tr>\n",
       "      <th>...</th>\n",
       "      <td>...</td>\n",
       "      <td>...</td>\n",
       "      <td>...</td>\n",
       "      <td>...</td>\n",
       "      <td>...</td>\n",
       "      <td>...</td>\n",
       "      <td>...</td>\n",
       "      <td>...</td>\n",
       "      <td>...</td>\n",
       "      <td>...</td>\n",
       "      <td>...</td>\n",
       "      <td>...</td>\n",
       "      <td>...</td>\n",
       "      <td>...</td>\n",
       "      <td>...</td>\n",
       "      <td>...</td>\n",
       "    </tr>\n",
       "    <tr>\n",
       "      <th>6069</th>\n",
       "      <td>0</td>\n",
       "      <td>0</td>\n",
       "      <td>0</td>\n",
       "      <td>0</td>\n",
       "      <td>0</td>\n",
       "      <td>0</td>\n",
       "      <td>0</td>\n",
       "      <td>0</td>\n",
       "      <td>0</td>\n",
       "      <td>0</td>\n",
       "      <td>3</td>\n",
       "      <td>f</td>\n",
       "      <td>no</td>\n",
       "      <td>no</td>\n",
       "      <td>NO</td>\n",
       "      <td>Toddler(2-5)</td>\n",
       "    </tr>\n",
       "    <tr>\n",
       "      <th>6070</th>\n",
       "      <td>0</td>\n",
       "      <td>0</td>\n",
       "      <td>0</td>\n",
       "      <td>0</td>\n",
       "      <td>0</td>\n",
       "      <td>0</td>\n",
       "      <td>0</td>\n",
       "      <td>0</td>\n",
       "      <td>0</td>\n",
       "      <td>1</td>\n",
       "      <td>2</td>\n",
       "      <td>f</td>\n",
       "      <td>no</td>\n",
       "      <td>yes</td>\n",
       "      <td>NO</td>\n",
       "      <td>Toddler(2-5)</td>\n",
       "    </tr>\n",
       "    <tr>\n",
       "      <th>6072</th>\n",
       "      <td>1</td>\n",
       "      <td>0</td>\n",
       "      <td>1</td>\n",
       "      <td>1</td>\n",
       "      <td>1</td>\n",
       "      <td>1</td>\n",
       "      <td>1</td>\n",
       "      <td>1</td>\n",
       "      <td>1</td>\n",
       "      <td>1</td>\n",
       "      <td>2</td>\n",
       "      <td>m</td>\n",
       "      <td>yes</td>\n",
       "      <td>no</td>\n",
       "      <td>NO</td>\n",
       "      <td>Toddler(2-5)</td>\n",
       "    </tr>\n",
       "    <tr>\n",
       "      <th>6073</th>\n",
       "      <td>1</td>\n",
       "      <td>0</td>\n",
       "      <td>0</td>\n",
       "      <td>0</td>\n",
       "      <td>0</td>\n",
       "      <td>0</td>\n",
       "      <td>0</td>\n",
       "      <td>1</td>\n",
       "      <td>0</td>\n",
       "      <td>1</td>\n",
       "      <td>2</td>\n",
       "      <td>m</td>\n",
       "      <td>no</td>\n",
       "      <td>yes</td>\n",
       "      <td>NO</td>\n",
       "      <td>Toddler(2-5)</td>\n",
       "    </tr>\n",
       "    <tr>\n",
       "      <th>6074</th>\n",
       "      <td>1</td>\n",
       "      <td>1</td>\n",
       "      <td>0</td>\n",
       "      <td>0</td>\n",
       "      <td>1</td>\n",
       "      <td>1</td>\n",
       "      <td>0</td>\n",
       "      <td>1</td>\n",
       "      <td>1</td>\n",
       "      <td>0</td>\n",
       "      <td>2</td>\n",
       "      <td>m</td>\n",
       "      <td>yes</td>\n",
       "      <td>yes</td>\n",
       "      <td>NO</td>\n",
       "      <td>Toddler(2-5)</td>\n",
       "    </tr>\n",
       "  </tbody>\n",
       "</table>\n",
       "<p>5915 rows × 16 columns</p>\n",
       "</div>"
      ],
      "text/plain": [
       "      A1  A2  A3  A4  A5  A6  A7  A8  A9  A10  Age Sex Jauundice Family_ASD  \\\n",
       "0      1   1   0   1   0   0   1   1   0    0   15   m        no         no   \n",
       "1      0   1   1   1   0   1   1   0   1    0   15   m        no         no   \n",
       "2      1   1   1   0   1   1   1   1   1    1   15   f        no        yes   \n",
       "3      1   1   1   1   1   1   1   1   0    0   16   f        no         no   \n",
       "4      1   1   1   1   1   1   1   1   1    1   15   f        no         no   \n",
       "...   ..  ..  ..  ..  ..  ..  ..  ..  ..  ...  ...  ..       ...        ...   \n",
       "6069   0   0   0   0   0   0   0   0   0    0    3   f        no         no   \n",
       "6070   0   0   0   0   0   0   0   0   0    1    2   f        no        yes   \n",
       "6072   1   0   1   1   1   1   1   1   1    1    2   m       yes         no   \n",
       "6073   1   0   0   0   0   0   0   1   0    1    2   m        no        yes   \n",
       "6074   1   1   0   0   1   1   0   1   1    0    2   m       yes        yes   \n",
       "\n",
       "     Class      AgeGroup  \n",
       "0       NO   Teen(13-19)  \n",
       "1       NO   Teen(13-19)  \n",
       "2      YES   Teen(13-19)  \n",
       "3      YES   Teen(13-19)  \n",
       "4      YES   Teen(13-19)  \n",
       "...    ...           ...  \n",
       "6069    NO  Toddler(2-5)  \n",
       "6070    NO  Toddler(2-5)  \n",
       "6072    NO  Toddler(2-5)  \n",
       "6073    NO  Toddler(2-5)  \n",
       "6074    NO  Toddler(2-5)  \n",
       "\n",
       "[5915 rows x 16 columns]"
      ]
     },
     "execution_count": 149,
     "metadata": {},
     "output_type": "execute_result"
    }
   ],
   "source": [
    "df"
   ]
  },
  {
   "cell_type": "code",
   "execution_count": 150,
   "id": "e84eac06-8870-4e30-94c4-fc0a43495b5b",
   "metadata": {},
   "outputs": [
    {
     "data": {
      "text/html": [
       "<div>\n",
       "<style scoped>\n",
       "    .dataframe tbody tr th:only-of-type {\n",
       "        vertical-align: middle;\n",
       "    }\n",
       "\n",
       "    .dataframe tbody tr th {\n",
       "        vertical-align: top;\n",
       "    }\n",
       "\n",
       "    .dataframe thead th {\n",
       "        text-align: right;\n",
       "    }\n",
       "</style>\n",
       "<table border=\"1\" class=\"dataframe\">\n",
       "  <thead>\n",
       "    <tr style=\"text-align: right;\">\n",
       "      <th>Sex</th>\n",
       "      <th>f</th>\n",
       "      <th>m</th>\n",
       "    </tr>\n",
       "    <tr>\n",
       "      <th>AgeGroup</th>\n",
       "      <th></th>\n",
       "      <th></th>\n",
       "    </tr>\n",
       "  </thead>\n",
       "  <tbody>\n",
       "    <tr>\n",
       "      <th>Toddler(2-5)</th>\n",
       "      <td>0.274182</td>\n",
       "      <td>0.725818</td>\n",
       "    </tr>\n",
       "    <tr>\n",
       "      <th>Child(6-12)</th>\n",
       "      <td>0.416667</td>\n",
       "      <td>0.583333</td>\n",
       "    </tr>\n",
       "    <tr>\n",
       "      <th>Teen(13-19)</th>\n",
       "      <td>0.532357</td>\n",
       "      <td>0.467643</td>\n",
       "    </tr>\n",
       "    <tr>\n",
       "      <th>Young Adult(20-30)</th>\n",
       "      <td>0.461538</td>\n",
       "      <td>0.538462</td>\n",
       "    </tr>\n",
       "    <tr>\n",
       "      <th>Adult(31-50)</th>\n",
       "      <td>0.472447</td>\n",
       "      <td>0.527553</td>\n",
       "    </tr>\n",
       "    <tr>\n",
       "      <th>Older Adults(51-80)</th>\n",
       "      <td>0.383838</td>\n",
       "      <td>0.616162</td>\n",
       "    </tr>\n",
       "  </tbody>\n",
       "</table>\n",
       "</div>"
      ],
      "text/plain": [
       "Sex                         f         m\n",
       "AgeGroup                               \n",
       "Toddler(2-5)         0.274182  0.725818\n",
       "Child(6-12)          0.416667  0.583333\n",
       "Teen(13-19)          0.532357  0.467643\n",
       "Young Adult(20-30)   0.461538  0.538462\n",
       "Adult(31-50)         0.472447  0.527553\n",
       "Older Adults(51-80)  0.383838  0.616162"
      ]
     },
     "execution_count": 150,
     "metadata": {},
     "output_type": "execute_result"
    }
   ],
   "source": [
    "pd.crosstab(df[\"AgeGroup\"],df[\"Sex\"], normalize=\"index\")"
   ]
  },
  {
   "cell_type": "code",
   "execution_count": 151,
   "id": "b47449a6-aa08-4213-ba5e-35cf9555192e",
   "metadata": {},
   "outputs": [
    {
     "name": "stdout",
     "output_type": "stream",
     "text": [
      "Class        NO       YES\n",
      "A1                       \n",
      "0      0.876550  0.123450\n",
      "1      0.617242  0.382758\n",
      "Class        NO       YES\n",
      "A2                       \n",
      "0      0.811675  0.188325\n",
      "1      0.572320  0.427680\n",
      "Class        NO       YES\n",
      "A3                       \n",
      "0      0.904709  0.095291\n",
      "1      0.516734  0.483266\n",
      "Class        NO       YES\n",
      "A4                       \n",
      "0      0.913141  0.086859\n",
      "1      0.515413  0.484587\n",
      "Class        NO       YES\n",
      "A5                       \n",
      "0      0.931742  0.068258\n",
      "1      0.498763  0.501237\n",
      "Class        NO       YES\n",
      "A6                       \n",
      "0      0.901276  0.098724\n",
      "1      0.436142  0.563858\n",
      "Class        NO       YES\n",
      "A7                       \n",
      "0      0.819463  0.180537\n",
      "1      0.568654  0.431346\n",
      "Class        NO       YES\n",
      "A8                       \n",
      "0      0.843217  0.156783\n",
      "1      0.570718  0.429282\n",
      "Class        NO       YES\n",
      "A9                       \n",
      "0      0.889349  0.110651\n",
      "1      0.435897  0.564103\n",
      "Class        NO       YES\n",
      "A10                      \n",
      "0      0.918885  0.081115\n",
      "1      0.545660  0.454340\n"
     ]
    }
   ],
   "source": [
    "for cols in screen_col:\n",
    "    df1=pd.crosstab(df[cols], df[\"Class\"],normalize=\"index\")\n",
    "    print (df1)"
   ]
  },
  {
   "cell_type": "code",
   "execution_count": 152,
   "id": "d9aba9bf-ff07-40d7-bbba-d88df928a5cd",
   "metadata": {},
   "outputs": [
    {
     "data": {
      "text/html": [
       "<div>\n",
       "<style scoped>\n",
       "    .dataframe tbody tr th:only-of-type {\n",
       "        vertical-align: middle;\n",
       "    }\n",
       "\n",
       "    .dataframe tbody tr th {\n",
       "        vertical-align: top;\n",
       "    }\n",
       "\n",
       "    .dataframe thead th {\n",
       "        text-align: right;\n",
       "    }\n",
       "</style>\n",
       "<table border=\"1\" class=\"dataframe\">\n",
       "  <thead>\n",
       "    <tr style=\"text-align: right;\">\n",
       "      <th></th>\n",
       "      <th>A1</th>\n",
       "      <th>A2</th>\n",
       "      <th>A3</th>\n",
       "      <th>A4</th>\n",
       "      <th>A5</th>\n",
       "      <th>A6</th>\n",
       "      <th>A7</th>\n",
       "      <th>A8</th>\n",
       "      <th>A9</th>\n",
       "      <th>A10</th>\n",
       "      <th>Age</th>\n",
       "      <th>Sex</th>\n",
       "      <th>Jauundice</th>\n",
       "      <th>Family_ASD</th>\n",
       "      <th>Class</th>\n",
       "      <th>AgeGroup</th>\n",
       "    </tr>\n",
       "  </thead>\n",
       "  <tbody>\n",
       "    <tr>\n",
       "      <th>0</th>\n",
       "      <td>1</td>\n",
       "      <td>1</td>\n",
       "      <td>0</td>\n",
       "      <td>1</td>\n",
       "      <td>0</td>\n",
       "      <td>0</td>\n",
       "      <td>1</td>\n",
       "      <td>1</td>\n",
       "      <td>0</td>\n",
       "      <td>0</td>\n",
       "      <td>15</td>\n",
       "      <td>m</td>\n",
       "      <td>no</td>\n",
       "      <td>no</td>\n",
       "      <td>NO</td>\n",
       "      <td>Teen(13-19)</td>\n",
       "    </tr>\n",
       "    <tr>\n",
       "      <th>1</th>\n",
       "      <td>0</td>\n",
       "      <td>1</td>\n",
       "      <td>1</td>\n",
       "      <td>1</td>\n",
       "      <td>0</td>\n",
       "      <td>1</td>\n",
       "      <td>1</td>\n",
       "      <td>0</td>\n",
       "      <td>1</td>\n",
       "      <td>0</td>\n",
       "      <td>15</td>\n",
       "      <td>m</td>\n",
       "      <td>no</td>\n",
       "      <td>no</td>\n",
       "      <td>NO</td>\n",
       "      <td>Teen(13-19)</td>\n",
       "    </tr>\n",
       "    <tr>\n",
       "      <th>2</th>\n",
       "      <td>1</td>\n",
       "      <td>1</td>\n",
       "      <td>1</td>\n",
       "      <td>0</td>\n",
       "      <td>1</td>\n",
       "      <td>1</td>\n",
       "      <td>1</td>\n",
       "      <td>1</td>\n",
       "      <td>1</td>\n",
       "      <td>1</td>\n",
       "      <td>15</td>\n",
       "      <td>f</td>\n",
       "      <td>no</td>\n",
       "      <td>yes</td>\n",
       "      <td>YES</td>\n",
       "      <td>Teen(13-19)</td>\n",
       "    </tr>\n",
       "    <tr>\n",
       "      <th>3</th>\n",
       "      <td>1</td>\n",
       "      <td>1</td>\n",
       "      <td>1</td>\n",
       "      <td>1</td>\n",
       "      <td>1</td>\n",
       "      <td>1</td>\n",
       "      <td>1</td>\n",
       "      <td>1</td>\n",
       "      <td>0</td>\n",
       "      <td>0</td>\n",
       "      <td>16</td>\n",
       "      <td>f</td>\n",
       "      <td>no</td>\n",
       "      <td>no</td>\n",
       "      <td>YES</td>\n",
       "      <td>Teen(13-19)</td>\n",
       "    </tr>\n",
       "    <tr>\n",
       "      <th>4</th>\n",
       "      <td>1</td>\n",
       "      <td>1</td>\n",
       "      <td>1</td>\n",
       "      <td>1</td>\n",
       "      <td>1</td>\n",
       "      <td>1</td>\n",
       "      <td>1</td>\n",
       "      <td>1</td>\n",
       "      <td>1</td>\n",
       "      <td>1</td>\n",
       "      <td>15</td>\n",
       "      <td>f</td>\n",
       "      <td>no</td>\n",
       "      <td>no</td>\n",
       "      <td>YES</td>\n",
       "      <td>Teen(13-19)</td>\n",
       "    </tr>\n",
       "    <tr>\n",
       "      <th>...</th>\n",
       "      <td>...</td>\n",
       "      <td>...</td>\n",
       "      <td>...</td>\n",
       "      <td>...</td>\n",
       "      <td>...</td>\n",
       "      <td>...</td>\n",
       "      <td>...</td>\n",
       "      <td>...</td>\n",
       "      <td>...</td>\n",
       "      <td>...</td>\n",
       "      <td>...</td>\n",
       "      <td>...</td>\n",
       "      <td>...</td>\n",
       "      <td>...</td>\n",
       "      <td>...</td>\n",
       "      <td>...</td>\n",
       "    </tr>\n",
       "    <tr>\n",
       "      <th>6069</th>\n",
       "      <td>0</td>\n",
       "      <td>0</td>\n",
       "      <td>0</td>\n",
       "      <td>0</td>\n",
       "      <td>0</td>\n",
       "      <td>0</td>\n",
       "      <td>0</td>\n",
       "      <td>0</td>\n",
       "      <td>0</td>\n",
       "      <td>0</td>\n",
       "      <td>3</td>\n",
       "      <td>f</td>\n",
       "      <td>no</td>\n",
       "      <td>no</td>\n",
       "      <td>NO</td>\n",
       "      <td>Toddler(2-5)</td>\n",
       "    </tr>\n",
       "    <tr>\n",
       "      <th>6070</th>\n",
       "      <td>0</td>\n",
       "      <td>0</td>\n",
       "      <td>0</td>\n",
       "      <td>0</td>\n",
       "      <td>0</td>\n",
       "      <td>0</td>\n",
       "      <td>0</td>\n",
       "      <td>0</td>\n",
       "      <td>0</td>\n",
       "      <td>1</td>\n",
       "      <td>2</td>\n",
       "      <td>f</td>\n",
       "      <td>no</td>\n",
       "      <td>yes</td>\n",
       "      <td>NO</td>\n",
       "      <td>Toddler(2-5)</td>\n",
       "    </tr>\n",
       "    <tr>\n",
       "      <th>6072</th>\n",
       "      <td>1</td>\n",
       "      <td>0</td>\n",
       "      <td>1</td>\n",
       "      <td>1</td>\n",
       "      <td>1</td>\n",
       "      <td>1</td>\n",
       "      <td>1</td>\n",
       "      <td>1</td>\n",
       "      <td>1</td>\n",
       "      <td>1</td>\n",
       "      <td>2</td>\n",
       "      <td>m</td>\n",
       "      <td>yes</td>\n",
       "      <td>no</td>\n",
       "      <td>NO</td>\n",
       "      <td>Toddler(2-5)</td>\n",
       "    </tr>\n",
       "    <tr>\n",
       "      <th>6073</th>\n",
       "      <td>1</td>\n",
       "      <td>0</td>\n",
       "      <td>0</td>\n",
       "      <td>0</td>\n",
       "      <td>0</td>\n",
       "      <td>0</td>\n",
       "      <td>0</td>\n",
       "      <td>1</td>\n",
       "      <td>0</td>\n",
       "      <td>1</td>\n",
       "      <td>2</td>\n",
       "      <td>m</td>\n",
       "      <td>no</td>\n",
       "      <td>yes</td>\n",
       "      <td>NO</td>\n",
       "      <td>Toddler(2-5)</td>\n",
       "    </tr>\n",
       "    <tr>\n",
       "      <th>6074</th>\n",
       "      <td>1</td>\n",
       "      <td>1</td>\n",
       "      <td>0</td>\n",
       "      <td>0</td>\n",
       "      <td>1</td>\n",
       "      <td>1</td>\n",
       "      <td>0</td>\n",
       "      <td>1</td>\n",
       "      <td>1</td>\n",
       "      <td>0</td>\n",
       "      <td>2</td>\n",
       "      <td>m</td>\n",
       "      <td>yes</td>\n",
       "      <td>yes</td>\n",
       "      <td>NO</td>\n",
       "      <td>Toddler(2-5)</td>\n",
       "    </tr>\n",
       "  </tbody>\n",
       "</table>\n",
       "<p>5915 rows × 16 columns</p>\n",
       "</div>"
      ],
      "text/plain": [
       "      A1  A2  A3  A4  A5  A6  A7  A8  A9  A10  Age Sex Jauundice Family_ASD  \\\n",
       "0      1   1   0   1   0   0   1   1   0    0   15   m        no         no   \n",
       "1      0   1   1   1   0   1   1   0   1    0   15   m        no         no   \n",
       "2      1   1   1   0   1   1   1   1   1    1   15   f        no        yes   \n",
       "3      1   1   1   1   1   1   1   1   0    0   16   f        no         no   \n",
       "4      1   1   1   1   1   1   1   1   1    1   15   f        no         no   \n",
       "...   ..  ..  ..  ..  ..  ..  ..  ..  ..  ...  ...  ..       ...        ...   \n",
       "6069   0   0   0   0   0   0   0   0   0    0    3   f        no         no   \n",
       "6070   0   0   0   0   0   0   0   0   0    1    2   f        no        yes   \n",
       "6072   1   0   1   1   1   1   1   1   1    1    2   m       yes         no   \n",
       "6073   1   0   0   0   0   0   0   1   0    1    2   m        no        yes   \n",
       "6074   1   1   0   0   1   1   0   1   1    0    2   m       yes        yes   \n",
       "\n",
       "     Class      AgeGroup  \n",
       "0       NO   Teen(13-19)  \n",
       "1       NO   Teen(13-19)  \n",
       "2      YES   Teen(13-19)  \n",
       "3      YES   Teen(13-19)  \n",
       "4      YES   Teen(13-19)  \n",
       "...    ...           ...  \n",
       "6069    NO  Toddler(2-5)  \n",
       "6070    NO  Toddler(2-5)  \n",
       "6072    NO  Toddler(2-5)  \n",
       "6073    NO  Toddler(2-5)  \n",
       "6074    NO  Toddler(2-5)  \n",
       "\n",
       "[5915 rows x 16 columns]"
      ]
     },
     "execution_count": 152,
     "metadata": {},
     "output_type": "execute_result"
    }
   ],
   "source": [
    "##correlations/heatmap not required because the data is categorical\n",
    "df"
   ]
  },
  {
   "cell_type": "code",
   "execution_count": 153,
   "id": "539e80b6-cf23-40e4-a175-faecf80aa4a3",
   "metadata": {},
   "outputs": [],
   "source": [
    "from scipy.stats import chi2_contingency,f_oneway"
   ]
  },
  {
   "cell_type": "code",
   "execution_count": 154,
   "id": "8182fede-46b6-406c-b74b-b8ff920431f9",
   "metadata": {},
   "outputs": [
    {
     "name": "stdout",
     "output_type": "stream",
     "text": [
      "A1: pvalue=2.0897404207140375e-87\n",
      "A2: pvalue=1.2968931595889315e-88\n",
      "A3: pvalue=1.8225461254557352e-228\n",
      "A4: pvalue=2.5431627848431935e-239\n",
      "A5: pvalue=1.8974472190363845e-283\n",
      "A6: pvalue=0.0\n",
      "A7: pvalue=3.546388672304587e-97\n",
      "A8: pvalue=1.597727470856099e-113\n",
      "A9: pvalue=4.620329172473721e-307\n",
      "A10: pvalue=1.5659576263662159e-204\n",
      "Age: pvalue=4.524532886483486e-132\n",
      "Sex: pvalue=0.0025018034833685695\n",
      "Jauundice: pvalue=0.02667433601641303\n",
      "Family_ASD: pvalue=3.5469647345676883e-16\n",
      "Class: pvalue=0.0\n",
      "AgeGroup: pvalue=5.702158019917309e-75\n"
     ]
    }
   ],
   "source": [
    "for col in df:\n",
    "    contingency_table=pd.crosstab(df[col],df[\"Class\"])\n",
    "    chi2,p,dof,expected=chi2_contingency(contingency_table)\n",
    "    print(f\"{col}: pvalue={p}\")"
   ]
  },
  {
   "cell_type": "markdown",
   "id": "f3e0b1fd-0e1e-4bde-a1c4-8de7908a8e45",
   "metadata": {},
   "source": [
    "Model Building\n",
    "\n",
    "- logistic regression as baseline model\n",
    "- random forest for comparison"
   ]
  },
  {
   "cell_type": "code",
   "execution_count": 155,
   "id": "67fada3f-a630-4a64-884f-cece8e872ac8",
   "metadata": {},
   "outputs": [],
   "source": [
    "df=pd.get_dummies(df,columns=['Jauundice','Family_ASD','AgeGroup','Sex'])\n"
   ]
  },
  {
   "cell_type": "code",
   "execution_count": 156,
   "id": "d0ba75df-3460-44e4-a209-8d29bd711c63",
   "metadata": {},
   "outputs": [],
   "source": [
    "from sklearn.model_selection import train_test_split\n",
    "from sklearn.linear_model import LogisticRegression"
   ]
  },
  {
   "cell_type": "code",
   "execution_count": 157,
   "id": "b5b07570-294c-4537-9a9a-4fde2973d30c",
   "metadata": {},
   "outputs": [],
   "source": [
    "X=df.copy()\n",
    "Y=X.pop(\"Class\")"
   ]
  },
  {
   "cell_type": "code",
   "execution_count": 158,
   "id": "8e02ebf5-a027-4cb6-8a34-4e6266fa7a20",
   "metadata": {},
   "outputs": [
    {
     "name": "stdout",
     "output_type": "stream",
     "text": [
      "{'NO': 0, 'YES': 1}\n"
     ]
    }
   ],
   "source": [
    "from sklearn.preprocessing import LabelEncoder\n",
    "\n",
    "le = LabelEncoder()\n",
    "y_encoded = le.fit_transform(Y)\n",
    "print(dict(zip(le.classes_, le.transform(le.classes_))))\n"
   ]
  },
  {
   "cell_type": "code",
   "execution_count": 173,
   "id": "a9373b05-60ae-4923-acb3-5b22ee79e3af",
   "metadata": {},
   "outputs": [],
   "source": [
    "model=LogisticRegression(max_iter=10000,class_weight='balanced')"
   ]
  },
  {
   "cell_type": "code",
   "execution_count": 174,
   "id": "133bbb31-b6a2-4179-9a04-ac6791dc25a5",
   "metadata": {},
   "outputs": [
    {
     "name": "stdout",
     "output_type": "stream",
     "text": [
      "0.9239222316145393\n"
     ]
    }
   ],
   "source": [
    "lr=model.fit(xtrain,ytrain)\n",
    "y_pred=lr.predict(xtest)\n",
    "from sklearn.metrics import classification_report,accuracy_score\n",
    "acc=accuracy_score(ytest,y_pred)\n",
    "cr=classification_report(ytest,y_pred)\n",
    "print (acc)"
   ]
  },
  {
   "cell_type": "code",
   "execution_count": 190,
   "id": "9a0ef00d-864f-440d-a6e5-70dda72c49a6",
   "metadata": {},
   "outputs": [
    {
     "name": "stdout",
     "output_type": "stream",
     "text": [
      "Classification report for logistic regression:\n",
      "               precision    recall  f1-score   support\n",
      "\n",
      "           0       0.97      0.91      0.94       809\n",
      "           1       0.83      0.95      0.89       374\n",
      "\n",
      "    accuracy                           0.92      1183\n",
      "   macro avg       0.90      0.93      0.92      1183\n",
      "weighted avg       0.93      0.92      0.93      1183\n",
      "\n"
     ]
    }
   ],
   "source": [
    "print(\"Classification report for logistic regression:\\n\",cr)"
   ]
  },
  {
   "cell_type": "code",
   "execution_count": 176,
   "id": "d0ac3975-5bbd-4dc2-9970-3212c4081dff",
   "metadata": {},
   "outputs": [
    {
     "name": "stdout",
     "output_type": "stream",
     "text": [
      "0.9376064217951836\n"
     ]
    }
   ],
   "source": [
    "#checking for overfitting\n",
    "train_acc = accuracy_score(ytrain, model.predict(xtrain))\n",
    "print(ac)"
   ]
  },
  {
   "cell_type": "code",
   "execution_count": 177,
   "id": "ce231052-0bd5-4250-b2b7-07eb63683c21",
   "metadata": {},
   "outputs": [],
   "source": [
    "from sklearn.ensemble import RandomForestClassifier"
   ]
  },
  {
   "cell_type": "code",
   "execution_count": 178,
   "id": "d15c44bd-58f3-432f-ab6d-fca20b5d6ae5",
   "metadata": {},
   "outputs": [],
   "source": [
    "rf=RandomForestClassifier(n_estimators=100).fit(xtrain,ytrain)"
   ]
  },
  {
   "cell_type": "code",
   "execution_count": 179,
   "id": "2b47a63b-365a-47d4-a3e1-8fb0ff5bb681",
   "metadata": {},
   "outputs": [
    {
     "name": "stdout",
     "output_type": "stream",
     "text": [
      "0.978021978021978\n"
     ]
    }
   ],
   "source": [
    "acc3=accuracy_score(ytest,rf.predict(xtest))\n",
    "cr2=classification_report(ytest,rf.predict(xtest))\n",
    "\n",
    "print(acc3)"
   ]
  },
  {
   "cell_type": "code",
   "execution_count": 180,
   "id": "4e9c4aec-154d-4e70-83b5-deac91234be9",
   "metadata": {},
   "outputs": [],
   "source": [
    "rf=RandomForestClassifier(n_estimators=100).fit(xtrain,ytrain)"
   ]
  },
  {
   "cell_type": "code",
   "execution_count": 192,
   "id": "09a5ad2f-9130-496c-8cb9-4941672b8240",
   "metadata": {},
   "outputs": [
    {
     "name": "stdout",
     "output_type": "stream",
     "text": [
      "Classification report for Random Forest:\n",
      "               precision    recall  f1-score   support\n",
      "\n",
      "           0       0.98      0.98      0.98       809\n",
      "           1       0.95      0.96      0.95       374\n",
      "\n",
      "    accuracy                           0.97      1183\n",
      "   macro avg       0.97      0.97      0.97      1183\n",
      "weighted avg       0.97      0.97      0.97      1183\n",
      "\n"
     ]
    }
   ],
   "source": [
    "print(\"Classification report for Random Forest:\\n\",cr2)"
   ]
  },
  {
   "cell_type": "code",
   "execution_count": 182,
   "id": "bf6fa234-8861-4b90-b3b3-40a3abf672d7",
   "metadata": {},
   "outputs": [
    {
     "name": "stdout",
     "output_type": "stream",
     "text": [
      "0.9712595097210481\n"
     ]
    }
   ],
   "source": [
    "acc3=accuracy_score(ytest,rf.predict(xtest))\n",
    "cr2=classification_report(ytest,rf.predict(xtest))\n",
    "\n",
    "print(acc3)"
   ]
  },
  {
   "cell_type": "code",
   "execution_count": 193,
   "id": "d99338a3-7713-4db3-ab75-6da0df1eb0e2",
   "metadata": {},
   "outputs": [
    {
     "data": {
      "image/png": "[encoded data removed]",
      "text/plain": [
       "<Figure size 700x500 with 1 Axes>"
      ]
     },
     "metadata": {},
     "output_type": "display_data"
    }
   ],
   "source": [
    "from sklearn.metrics import precision_recall_curve, average_precision_score\n",
    "\n",
    "# Predict probabilities\n",
    "y_scores = lr.predict_proba(xtest)[:, 1]\n",
    "\n",
    "# Precision-Recall values\n",
    "precision, recall, thresholds = precision_recall_curve(ytest, y_scores)\n",
    "avg_precision = average_precision_score(ytest, y_scores)\n",
    "\n",
    "# Plot PR curve\n",
    "plt.figure(figsize=(7, 5))\n",
    "plt.plot(recall, precision, label=f\"PR curve (AP = {avg_precision:.2f})\")\n",
    "plt.xlabel(\"Recall\")\n",
    "plt.ylabel(\"Precision\")\n",
    "plt.title(\"Precision–Recall Curve for Logistic Regression\")\n",
    "plt.legend()\n",
    "plt.grid(True)\n",
    "plt.show()\n"
   ]
  },
  {
   "cell_type": "code",
   "execution_count": 194,
   "id": "cc702734-6694-441b-b0af-9410627d9c21",
   "metadata": {},
   "outputs": [
    {
     "data": {
      "image/png": "[encoded data removed]",
      "text/plain": [
       "<Figure size 700x500 with 1 Axes>"
      ]
     },
     "metadata": {},
     "output_type": "display_data"
    }
   ],
   "source": [
    "y_score= rf.predict_proba(xtest)[:, 1]\n",
    "\n",
    "precision1, recall1, thresholds1 = precision_recall_curve(ytest, y_scores)\n",
    "avg_precision = average_precision_score(ytest, y_score)\n",
    "\n",
    "# Plot PR curve\n",
    "plt.figure(figsize=(7, 5))\n",
    "plt.plot(recall1, precision1, label=f\"PR curve (AP = {avg_precision:.2f})\")\n",
    "plt.xlabel(\"Recall\")\n",
    "plt.ylabel(\"Precision\")\n",
    "plt.title(\"Precision–Recall Curve for Random Forest\")\n",
    "plt.legend()\n",
    "plt.grid(True)\n",
    "plt.show()\n"
   ]
  },
  {
   "cell_type": "code",
   "execution_count": null,
   "id": "d519c7eb-397e-49c9-a937-c4d36bcc4ebf",
   "metadata": {},
   "outputs": [],
   "source": []
  }
 ],
 "metadata": {
  "kernelspec": {
   "display_name": "Python 3 (ipykernel)",
   "language": "python",
   "name": "python3"
  },
  "language_info": {
   "codemirror_mode": {
    "name": "ipython",
    "version": 3
   },
   "file_extension": ".py",
   "mimetype": "text/x-python",
   "name": "python",
   "nbconvert_exporter": "python",
   "pygments_lexer": "ipython3",
   "version": "3.12.3"
  }
 },
 "nbformat": 4,
 "nbformat_minor": 5
}
